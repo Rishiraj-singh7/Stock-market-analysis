{
 "cells": [
  {
   "cell_type": "markdown",
   "metadata": {},
   "source": [
    "Step 1: Importing Datasets"
   ]
  },
  {
   "cell_type": "code",
   "execution_count": 1,
   "metadata": {},
   "outputs": [],
   "source": [
    "import pandas as pd"
   ]
  },
  {
   "cell_type": "code",
   "execution_count": 14,
   "metadata": {},
   "outputs": [],
   "source": [
    "intc = pd.read_csv('INTC.csv')"
   ]
  },
  {
   "cell_type": "code",
   "execution_count": 15,
   "metadata": {},
   "outputs": [
    {
     "data": {
      "text/html": [
       "<div>\n",
       "<style scoped>\n",
       "    .dataframe tbody tr th:only-of-type {\n",
       "        vertical-align: middle;\n",
       "    }\n",
       "\n",
       "    .dataframe tbody tr th {\n",
       "        vertical-align: top;\n",
       "    }\n",
       "\n",
       "    .dataframe thead th {\n",
       "        text-align: right;\n",
       "    }\n",
       "</style>\n",
       "<table border=\"1\" class=\"dataframe\">\n",
       "  <thead>\n",
       "    <tr style=\"text-align: right;\">\n",
       "      <th></th>\n",
       "      <th>Date</th>\n",
       "      <th>Open</th>\n",
       "      <th>High</th>\n",
       "      <th>Low</th>\n",
       "      <th>Close</th>\n",
       "      <th>Adj Close</th>\n",
       "      <th>Volume</th>\n",
       "    </tr>\n",
       "  </thead>\n",
       "  <tbody>\n",
       "    <tr>\n",
       "      <th>0</th>\n",
       "      <td>2021-06-28</td>\n",
       "      <td>56.360001</td>\n",
       "      <td>57.730000</td>\n",
       "      <td>56.340000</td>\n",
       "      <td>57.480000</td>\n",
       "      <td>55.844288</td>\n",
       "      <td>22480900</td>\n",
       "    </tr>\n",
       "    <tr>\n",
       "      <th>1</th>\n",
       "      <td>2021-06-29</td>\n",
       "      <td>57.549999</td>\n",
       "      <td>57.830002</td>\n",
       "      <td>55.880001</td>\n",
       "      <td>56.750000</td>\n",
       "      <td>55.135056</td>\n",
       "      <td>26360000</td>\n",
       "    </tr>\n",
       "    <tr>\n",
       "      <th>2</th>\n",
       "      <td>2021-06-30</td>\n",
       "      <td>56.340000</td>\n",
       "      <td>56.380001</td>\n",
       "      <td>55.389999</td>\n",
       "      <td>56.139999</td>\n",
       "      <td>54.542419</td>\n",
       "      <td>29891600</td>\n",
       "    </tr>\n",
       "  </tbody>\n",
       "</table>\n",
       "</div>"
      ],
      "text/plain": [
       "         Date       Open       High        Low      Close  Adj Close    Volume\n",
       "0  2021-06-28  56.360001  57.730000  56.340000  57.480000  55.844288  22480900\n",
       "1  2021-06-29  57.549999  57.830002  55.880001  56.750000  55.135056  26360000\n",
       "2  2021-06-30  56.340000  56.380001  55.389999  56.139999  54.542419  29891600"
      ]
     },
     "execution_count": 15,
     "metadata": {},
     "output_type": "execute_result"
    }
   ],
   "source": [
    "intc.head(3)"
   ]
  },
  {
   "cell_type": "code",
   "execution_count": 17,
   "metadata": {},
   "outputs": [],
   "source": [
    "intc = pd.read_csv('INTC.csv', header=0, index_col='Date', parse_dates=True)"
   ]
  },
  {
   "cell_type": "code",
   "execution_count": 18,
   "metadata": {},
   "outputs": [
    {
     "data": {
      "text/html": [
       "<div>\n",
       "<style scoped>\n",
       "    .dataframe tbody tr th:only-of-type {\n",
       "        vertical-align: middle;\n",
       "    }\n",
       "\n",
       "    .dataframe tbody tr th {\n",
       "        vertical-align: top;\n",
       "    }\n",
       "\n",
       "    .dataframe thead th {\n",
       "        text-align: right;\n",
       "    }\n",
       "</style>\n",
       "<table border=\"1\" class=\"dataframe\">\n",
       "  <thead>\n",
       "    <tr style=\"text-align: right;\">\n",
       "      <th></th>\n",
       "      <th>Open</th>\n",
       "      <th>High</th>\n",
       "      <th>Low</th>\n",
       "      <th>Close</th>\n",
       "      <th>Adj Close</th>\n",
       "      <th>Volume</th>\n",
       "    </tr>\n",
       "    <tr>\n",
       "      <th>Date</th>\n",
       "      <th></th>\n",
       "      <th></th>\n",
       "      <th></th>\n",
       "      <th></th>\n",
       "      <th></th>\n",
       "      <th></th>\n",
       "    </tr>\n",
       "  </thead>\n",
       "  <tbody>\n",
       "    <tr>\n",
       "      <th>2021-06-28</th>\n",
       "      <td>56.360001</td>\n",
       "      <td>57.730000</td>\n",
       "      <td>56.340000</td>\n",
       "      <td>57.480000</td>\n",
       "      <td>55.844288</td>\n",
       "      <td>22480900</td>\n",
       "    </tr>\n",
       "    <tr>\n",
       "      <th>2021-06-29</th>\n",
       "      <td>57.549999</td>\n",
       "      <td>57.830002</td>\n",
       "      <td>55.880001</td>\n",
       "      <td>56.750000</td>\n",
       "      <td>55.135056</td>\n",
       "      <td>26360000</td>\n",
       "    </tr>\n",
       "    <tr>\n",
       "      <th>2021-06-30</th>\n",
       "      <td>56.340000</td>\n",
       "      <td>56.380001</td>\n",
       "      <td>55.389999</td>\n",
       "      <td>56.139999</td>\n",
       "      <td>54.542419</td>\n",
       "      <td>29891600</td>\n",
       "    </tr>\n",
       "  </tbody>\n",
       "</table>\n",
       "</div>"
      ],
      "text/plain": [
       "                 Open       High        Low      Close  Adj Close    Volume\n",
       "Date                                                                       \n",
       "2021-06-28  56.360001  57.730000  56.340000  57.480000  55.844288  22480900\n",
       "2021-06-29  57.549999  57.830002  55.880001  56.750000  55.135056  26360000\n",
       "2021-06-30  56.340000  56.380001  55.389999  56.139999  54.542419  29891600"
      ]
     },
     "execution_count": 18,
     "metadata": {},
     "output_type": "execute_result"
    }
   ],
   "source": [
    "intc.head(3)"
   ]
  },
  {
   "cell_type": "code",
   "execution_count": 6,
   "metadata": {},
   "outputs": [
    {
     "data": {
      "text/html": [
       "<div>\n",
       "<style scoped>\n",
       "    .dataframe tbody tr th:only-of-type {\n",
       "        vertical-align: middle;\n",
       "    }\n",
       "\n",
       "    .dataframe tbody tr th {\n",
       "        vertical-align: top;\n",
       "    }\n",
       "\n",
       "    .dataframe thead th {\n",
       "        text-align: right;\n",
       "    }\n",
       "</style>\n",
       "<table border=\"1\" class=\"dataframe\">\n",
       "  <thead>\n",
       "    <tr style=\"text-align: right;\">\n",
       "      <th></th>\n",
       "      <th>Open</th>\n",
       "      <th>High</th>\n",
       "      <th>Low</th>\n",
       "      <th>Close</th>\n",
       "      <th>Adj Close</th>\n",
       "      <th>Volume</th>\n",
       "    </tr>\n",
       "    <tr>\n",
       "      <th>Date</th>\n",
       "      <th></th>\n",
       "      <th></th>\n",
       "      <th></th>\n",
       "      <th></th>\n",
       "      <th></th>\n",
       "      <th></th>\n",
       "    </tr>\n",
       "  </thead>\n",
       "  <tbody>\n",
       "    <tr>\n",
       "      <th>2022-06-23</th>\n",
       "      <td>37.610001</td>\n",
       "      <td>37.619999</td>\n",
       "      <td>36.910000</td>\n",
       "      <td>37.410000</td>\n",
       "      <td>37.410000</td>\n",
       "      <td>30163000</td>\n",
       "    </tr>\n",
       "    <tr>\n",
       "      <th>2022-06-24</th>\n",
       "      <td>37.849998</td>\n",
       "      <td>38.639999</td>\n",
       "      <td>37.740002</td>\n",
       "      <td>38.610001</td>\n",
       "      <td>38.610001</td>\n",
       "      <td>38152100</td>\n",
       "    </tr>\n",
       "  </tbody>\n",
       "</table>\n",
       "</div>"
      ],
      "text/plain": [
       "                 Open       High        Low      Close  Adj Close    Volume\n",
       "Date                                                                       \n",
       "2022-06-23  37.610001  37.619999  36.910000  37.410000  37.410000  30163000\n",
       "2022-06-24  37.849998  38.639999  37.740002  38.610001  38.610001  38152100"
      ]
     },
     "execution_count": 6,
     "metadata": {},
     "output_type": "execute_result"
    }
   ],
   "source": [
    "amd.tail(2)"
   ]
  },
  {
   "cell_type": "markdown",
   "metadata": {},
   "source": [
    "\n",
    "Using Pandas DataReader"
   ]
  },
  {
   "cell_type": "code",
   "execution_count": 7,
   "metadata": {},
   "outputs": [
    {
     "name": "stdout",
     "output_type": "stream",
     "text": [
      "Collecting pandas_datareader\n",
      "  Downloading pandas_datareader-0.10.0-py3-none-any.whl (109 kB)\n",
      "\u001b[K     |████████████████████████████████| 109 kB 854 kB/s eta 0:00:01\n",
      "\u001b[?25hRequirement already satisfied: pandas>=0.23 in /home/linux/.local/lib/python3.8/site-packages (from pandas_datareader) (1.4.2)\n",
      "Collecting lxml\n",
      "  Downloading lxml-4.9.0-cp38-cp38-manylinux_2_17_x86_64.manylinux2014_x86_64.manylinux_2_24_x86_64.whl (6.9 MB)\n",
      "\u001b[K     |████████████████████████████████| 6.9 MB 7.5 MB/s eta 0:00:01     |█████████████████████████████▍  | 6.4 MB 3.9 MB/s eta 0:00:01\n",
      "\u001b[?25hRequirement already satisfied: requests>=2.19.0 in /usr/lib/python3/dist-packages (from pandas_datareader) (2.22.0)\n",
      "Requirement already satisfied: pytz>=2020.1 in /home/linux/.local/lib/python3.8/site-packages (from pandas>=0.23->pandas_datareader) (2022.1)\n",
      "Requirement already satisfied: numpy>=1.18.5; platform_machine != \"aarch64\" and platform_machine != \"arm64\" and python_version < \"3.10\" in /home/linux/.local/lib/python3.8/site-packages (from pandas>=0.23->pandas_datareader) (1.22.4)\n",
      "Requirement already satisfied: python-dateutil>=2.8.1 in /home/linux/.local/lib/python3.8/site-packages (from pandas>=0.23->pandas_datareader) (2.8.2)\n",
      "Requirement already satisfied: six>=1.5 in /usr/lib/python3/dist-packages (from python-dateutil>=2.8.1->pandas>=0.23->pandas_datareader) (1.14.0)\n",
      "Installing collected packages: lxml, pandas-datareader\n",
      "Successfully installed lxml-4.9.0 pandas-datareader-0.10.0\n"
     ]
    }
   ],
   "source": [
    "!pip install pandas_datareader"
   ]
  },
  {
   "cell_type": "code",
   "execution_count": 8,
   "metadata": {},
   "outputs": [],
   "source": [
    "import pandas_datareader as pdr"
   ]
  },
  {
   "cell_type": "code",
   "execution_count": 9,
   "metadata": {},
   "outputs": [],
   "source": [
    "import datetime"
   ]
  },
  {
   "cell_type": "code",
   "execution_count": 10,
   "metadata": {},
   "outputs": [],
   "source": [
    "nvda = pdr.get_data_yahoo('NVDA', \n",
    "                          start=datetime.datetime(2004, 1, 1), \n",
    "                          end=datetime.datetime(2019, 9, 15))"
   ]
  },
  {
   "cell_type": "code",
   "execution_count": 11,
   "metadata": {},
   "outputs": [],
   "source": [
    "\n",
    "qcom = pdr.get_data_yahoo('QCOM',\n",
    "                         start=datetime.datetime(2004,1,1),\n",
    "                         end=datetime.datetime(2019,9,15))"
   ]
  },
  {
   "cell_type": "code",
   "execution_count": 13,
   "metadata": {},
   "outputs": [],
   "source": [
    "\n",
    "aamd = pdr.get_data_yahoo('AMD',\n",
    "                         start=datetime.datetime(2004,1,1),\n",
    "                         end=datetime.datetime(2019,9,15))"
   ]
  },
  {
   "cell_type": "code",
   "execution_count": 19,
   "metadata": {},
   "outputs": [],
   "source": [
    "ibm = pdr.get_data_yahoo('IBM',\n",
    "                        start=datetime.datetime(2004,1,1),\n",
    "                        end=datetime.datetime(2019,9,15))"
   ]
  },
  {
   "cell_type": "code",
   "execution_count": 20,
   "metadata": {},
   "outputs": [
    {
     "data": {
      "text/plain": [
       "(pandas.core.frame.DataFrame, pandas.core.frame.DataFrame)"
      ]
     },
     "execution_count": 20,
     "metadata": {},
     "output_type": "execute_result"
    }
   ],
   "source": [
    "type(nvda), type(amd)"
   ]
  },
  {
   "cell_type": "code",
   "execution_count": 21,
   "metadata": {},
   "outputs": [
    {
     "data": {
      "text/html": [
       "<div>\n",
       "<style scoped>\n",
       "    .dataframe tbody tr th:only-of-type {\n",
       "        vertical-align: middle;\n",
       "    }\n",
       "\n",
       "    .dataframe tbody tr th {\n",
       "        vertical-align: top;\n",
       "    }\n",
       "\n",
       "    .dataframe thead th {\n",
       "        text-align: right;\n",
       "    }\n",
       "</style>\n",
       "<table border=\"1\" class=\"dataframe\">\n",
       "  <thead>\n",
       "    <tr style=\"text-align: right;\">\n",
       "      <th></th>\n",
       "      <th>High</th>\n",
       "      <th>Low</th>\n",
       "      <th>Open</th>\n",
       "      <th>Close</th>\n",
       "      <th>Volume</th>\n",
       "      <th>Adj Close</th>\n",
       "    </tr>\n",
       "    <tr>\n",
       "      <th>Date</th>\n",
       "      <th></th>\n",
       "      <th></th>\n",
       "      <th></th>\n",
       "      <th></th>\n",
       "      <th></th>\n",
       "      <th></th>\n",
       "    </tr>\n",
       "  </thead>\n",
       "  <tbody>\n",
       "    <tr>\n",
       "      <th>2003-12-31</th>\n",
       "      <td>1.987500</td>\n",
       "      <td>1.901667</td>\n",
       "      <td>1.978333</td>\n",
       "      <td>1.933333</td>\n",
       "      <td>49726800.0</td>\n",
       "      <td>1.775302</td>\n",
       "    </tr>\n",
       "    <tr>\n",
       "      <th>2004-01-02</th>\n",
       "      <td>1.990833</td>\n",
       "      <td>1.923333</td>\n",
       "      <td>1.964167</td>\n",
       "      <td>1.923333</td>\n",
       "      <td>43641600.0</td>\n",
       "      <td>1.766120</td>\n",
       "    </tr>\n",
       "  </tbody>\n",
       "</table>\n",
       "</div>"
      ],
      "text/plain": [
       "                High       Low      Open     Close      Volume  Adj Close\n",
       "Date                                                                     \n",
       "2003-12-31  1.987500  1.901667  1.978333  1.933333  49726800.0   1.775302\n",
       "2004-01-02  1.990833  1.923333  1.964167  1.923333  43641600.0   1.766120"
      ]
     },
     "execution_count": 21,
     "metadata": {},
     "output_type": "execute_result"
    }
   ],
   "source": [
    "nvda.head(n=2)"
   ]
  },
  {
   "cell_type": "code",
   "execution_count": 22,
   "metadata": {},
   "outputs": [
    {
     "data": {
      "text/html": [
       "<div>\n",
       "<style scoped>\n",
       "    .dataframe tbody tr th:only-of-type {\n",
       "        vertical-align: middle;\n",
       "    }\n",
       "\n",
       "    .dataframe tbody tr th {\n",
       "        vertical-align: top;\n",
       "    }\n",
       "\n",
       "    .dataframe thead th {\n",
       "        text-align: right;\n",
       "    }\n",
       "</style>\n",
       "<table border=\"1\" class=\"dataframe\">\n",
       "  <thead>\n",
       "    <tr style=\"text-align: right;\">\n",
       "      <th></th>\n",
       "      <th>High</th>\n",
       "      <th>Low</th>\n",
       "      <th>Open</th>\n",
       "      <th>Close</th>\n",
       "      <th>Volume</th>\n",
       "      <th>Adj Close</th>\n",
       "    </tr>\n",
       "    <tr>\n",
       "      <th>Date</th>\n",
       "      <th></th>\n",
       "      <th></th>\n",
       "      <th></th>\n",
       "      <th></th>\n",
       "      <th></th>\n",
       "      <th></th>\n",
       "    </tr>\n",
       "  </thead>\n",
       "  <tbody>\n",
       "    <tr>\n",
       "      <th>2019-09-09</th>\n",
       "      <td>136.730408</td>\n",
       "      <td>134.282990</td>\n",
       "      <td>134.407272</td>\n",
       "      <td>136.328873</td>\n",
       "      <td>4421024.0</td>\n",
       "      <td>118.996468</td>\n",
       "    </tr>\n",
       "    <tr>\n",
       "      <th>2019-09-10</th>\n",
       "      <td>139.063095</td>\n",
       "      <td>136.673035</td>\n",
       "      <td>136.711288</td>\n",
       "      <td>138.671127</td>\n",
       "      <td>5208766.0</td>\n",
       "      <td>121.040916</td>\n",
       "    </tr>\n",
       "    <tr>\n",
       "      <th>2019-09-11</th>\n",
       "      <td>138.738052</td>\n",
       "      <td>136.434036</td>\n",
       "      <td>138.479919</td>\n",
       "      <td>137.284897</td>\n",
       "      <td>4047706.0</td>\n",
       "      <td>119.830917</td>\n",
       "    </tr>\n",
       "    <tr>\n",
       "      <th>2019-09-12</th>\n",
       "      <td>137.705551</td>\n",
       "      <td>135.640533</td>\n",
       "      <td>137.695984</td>\n",
       "      <td>137.304016</td>\n",
       "      <td>2620648.0</td>\n",
       "      <td>119.847618</td>\n",
       "    </tr>\n",
       "    <tr>\n",
       "      <th>2019-09-13</th>\n",
       "      <td>138.288712</td>\n",
       "      <td>136.959854</td>\n",
       "      <td>137.973236</td>\n",
       "      <td>137.351822</td>\n",
       "      <td>2308104.0</td>\n",
       "      <td>119.889343</td>\n",
       "    </tr>\n",
       "  </tbody>\n",
       "</table>\n",
       "</div>"
      ],
      "text/plain": [
       "                  High         Low        Open       Close     Volume  \\\n",
       "Date                                                                    \n",
       "2019-09-09  136.730408  134.282990  134.407272  136.328873  4421024.0   \n",
       "2019-09-10  139.063095  136.673035  136.711288  138.671127  5208766.0   \n",
       "2019-09-11  138.738052  136.434036  138.479919  137.284897  4047706.0   \n",
       "2019-09-12  137.705551  135.640533  137.695984  137.304016  2620648.0   \n",
       "2019-09-13  138.288712  136.959854  137.973236  137.351822  2308104.0   \n",
       "\n",
       "             Adj Close  \n",
       "Date                    \n",
       "2019-09-09  118.996468  \n",
       "2019-09-10  121.040916  \n",
       "2019-09-11  119.830917  \n",
       "2019-09-12  119.847618  \n",
       "2019-09-13  119.889343  "
      ]
     },
     "execution_count": 22,
     "metadata": {},
     "output_type": "execute_result"
    }
   ],
   "source": [
    "ibm.tail()"
   ]
  },
  {
   "cell_type": "code",
   "execution_count": 23,
   "metadata": {},
   "outputs": [
    {
     "data": {
      "text/html": [
       "<div>\n",
       "<style scoped>\n",
       "    .dataframe tbody tr th:only-of-type {\n",
       "        vertical-align: middle;\n",
       "    }\n",
       "\n",
       "    .dataframe tbody tr th {\n",
       "        vertical-align: top;\n",
       "    }\n",
       "\n",
       "    .dataframe thead th {\n",
       "        text-align: right;\n",
       "    }\n",
       "</style>\n",
       "<table border=\"1\" class=\"dataframe\">\n",
       "  <thead>\n",
       "    <tr style=\"text-align: right;\">\n",
       "      <th></th>\n",
       "      <th>High</th>\n",
       "      <th>Low</th>\n",
       "      <th>Open</th>\n",
       "      <th>Close</th>\n",
       "      <th>Volume</th>\n",
       "      <th>Adj Close</th>\n",
       "    </tr>\n",
       "  </thead>\n",
       "  <tbody>\n",
       "    <tr>\n",
       "      <th>count</th>\n",
       "      <td>3953.000000</td>\n",
       "      <td>3953.000000</td>\n",
       "      <td>3953.000000</td>\n",
       "      <td>3953.000000</td>\n",
       "      <td>3.953000e+03</td>\n",
       "      <td>3953.000000</td>\n",
       "    </tr>\n",
       "    <tr>\n",
       "      <th>mean</th>\n",
       "      <td>132.588092</td>\n",
       "      <td>130.595847</td>\n",
       "      <td>131.541983</td>\n",
       "      <td>131.613633</td>\n",
       "      <td>5.912253e+06</td>\n",
       "      <td>92.905440</td>\n",
       "    </tr>\n",
       "    <tr>\n",
       "      <th>std</th>\n",
       "      <td>36.791553</td>\n",
       "      <td>36.528904</td>\n",
       "      <td>36.666262</td>\n",
       "      <td>36.663092</td>\n",
       "      <td>3.226218e+06</td>\n",
       "      <td>30.206335</td>\n",
       "    </tr>\n",
       "    <tr>\n",
       "      <th>min</th>\n",
       "      <td>70.449333</td>\n",
       "      <td>66.443596</td>\n",
       "      <td>69.340347</td>\n",
       "      <td>68.585083</td>\n",
       "      <td>1.074765e+06</td>\n",
       "      <td>42.158031</td>\n",
       "    </tr>\n",
       "    <tr>\n",
       "      <th>25%</th>\n",
       "      <td>98.470360</td>\n",
       "      <td>95.783936</td>\n",
       "      <td>96.826004</td>\n",
       "      <td>97.160614</td>\n",
       "      <td>3.825850e+06</td>\n",
       "      <td>62.035641</td>\n",
       "    </tr>\n",
       "    <tr>\n",
       "      <th>50%</th>\n",
       "      <td>134.799240</td>\n",
       "      <td>132.963669</td>\n",
       "      <td>133.776291</td>\n",
       "      <td>133.881454</td>\n",
       "      <td>5.076238e+06</td>\n",
       "      <td>103.479477</td>\n",
       "    </tr>\n",
       "    <tr>\n",
       "      <th>75%</th>\n",
       "      <td>160.086044</td>\n",
       "      <td>157.839386</td>\n",
       "      <td>158.938812</td>\n",
       "      <td>158.938812</td>\n",
       "      <td>6.986652e+06</td>\n",
       "      <td>118.681534</td>\n",
       "    </tr>\n",
       "    <tr>\n",
       "      <th>max</th>\n",
       "      <td>206.405350</td>\n",
       "      <td>204.875717</td>\n",
       "      <td>205.908218</td>\n",
       "      <td>206.309753</td>\n",
       "      <td>3.218615e+07</td>\n",
       "      <td>143.662170</td>\n",
       "    </tr>\n",
       "  </tbody>\n",
       "</table>\n",
       "</div>"
      ],
      "text/plain": [
       "              High          Low         Open        Close        Volume  \\\n",
       "count  3953.000000  3953.000000  3953.000000  3953.000000  3.953000e+03   \n",
       "mean    132.588092   130.595847   131.541983   131.613633  5.912253e+06   \n",
       "std      36.791553    36.528904    36.666262    36.663092  3.226218e+06   \n",
       "min      70.449333    66.443596    69.340347    68.585083  1.074765e+06   \n",
       "25%      98.470360    95.783936    96.826004    97.160614  3.825850e+06   \n",
       "50%     134.799240   132.963669   133.776291   133.881454  5.076238e+06   \n",
       "75%     160.086044   157.839386   158.938812   158.938812  6.986652e+06   \n",
       "max     206.405350   204.875717   205.908218   206.309753  3.218615e+07   \n",
       "\n",
       "         Adj Close  \n",
       "count  3953.000000  \n",
       "mean     92.905440  \n",
       "std      30.206335  \n",
       "min      42.158031  \n",
       "25%      62.035641  \n",
       "50%     103.479477  \n",
       "75%     118.681534  \n",
       "max     143.662170  "
      ]
     },
     "execution_count": 23,
     "metadata": {},
     "output_type": "execute_result"
    }
   ],
   "source": [
    "ibm.describe()"
   ]
  },
  {
   "cell_type": "code",
   "execution_count": 24,
   "metadata": {},
   "outputs": [
    {
     "data": {
      "text/plain": [
       "Index(['High', 'Low', 'Open', 'Close', 'Volume', 'Adj Close'], dtype='object')"
      ]
     },
     "execution_count": 24,
     "metadata": {},
     "output_type": "execute_result"
    }
   ],
   "source": [
    "nvda.columns"
   ]
  },
  {
   "cell_type": "code",
   "execution_count": 25,
   "metadata": {},
   "outputs": [
    {
     "data": {
      "text/plain": [
       "(DatetimeIndex(['2003-12-31', '2004-01-02', '2004-01-05', '2004-01-06',\n",
       "                '2004-01-07', '2004-01-08', '2004-01-09', '2004-01-12',\n",
       "                '2004-01-13', '2004-01-14',\n",
       "                ...\n",
       "                '2019-08-30', '2019-09-03', '2019-09-04', '2019-09-05',\n",
       "                '2019-09-06', '2019-09-09', '2019-09-10', '2019-09-11',\n",
       "                '2019-09-12', '2019-09-13'],\n",
       "               dtype='datetime64[ns]', name='Date', length=3953, freq=None),\n",
       " DatetimeIndex(['2021-06-28', '2021-06-29', '2021-06-30', '2021-07-01',\n",
       "                '2021-07-02', '2021-07-06', '2021-07-07', '2021-07-08',\n",
       "                '2021-07-09', '2021-07-12',\n",
       "                ...\n",
       "                '2022-06-10', '2022-06-13', '2022-06-14', '2022-06-15',\n",
       "                '2022-06-16', '2022-06-17', '2022-06-21', '2022-06-22',\n",
       "                '2022-06-23', '2022-06-24'],\n",
       "               dtype='datetime64[ns]', name='Date', length=251, freq=None))"
      ]
     },
     "execution_count": 25,
     "metadata": {},
     "output_type": "execute_result"
    }
   ],
   "source": [
    "nvda.index, amd.index"
   ]
  },
  {
   "cell_type": "code",
   "execution_count": 26,
   "metadata": {},
   "outputs": [
    {
     "data": {
      "text/plain": [
       "(3953, 6)"
      ]
     },
     "execution_count": 26,
     "metadata": {},
     "output_type": "execute_result"
    }
   ],
   "source": [
    "nvda.shape"
   ]
  },
  {
   "cell_type": "markdown",
   "metadata": {},
   "source": [
    "Time Series Data"
   ]
  },
  {
   "cell_type": "code",
   "execution_count": 27,
   "metadata": {},
   "outputs": [],
   "source": [
    "# A time series is a sequence of numerical data points taken at successive equally spaced points in time.\n",
    "# In investing, a time series tracks the movement of stock price, over a specified period of time."
   ]
  },
  {
   "cell_type": "code",
   "execution_count": 28,
   "metadata": {},
   "outputs": [],
   "source": [
    "import matplotlib.pyplot as plt\n",
    "\n",
    "%matplotlib inline"
   ]
  },
  {
   "cell_type": "code",
   "execution_count": 29,
   "metadata": {},
   "outputs": [],
   "source": [
    "import matplotlib.dates as mdates"
   ]
  },
  {
   "cell_type": "code",
   "execution_count": 30,
   "metadata": {},
   "outputs": [
    {
     "data": {
      "image/png": "[encoded data removed]",
      "text/plain": [
       "<Figure size 432x288 with 1 Axes>"
      ]
     },
     "metadata": {
      "needs_background": "light"
     },
     "output_type": "display_data"
    }
   ],
   "source": [
    "plt.plot(ibm.index, ibm['Adj Close'])\n",
    "plt.gca().xaxis.set_major_formatter(mdates.DateFormatter('%Y'))\n",
    "plt.gca().xaxis.set_major_locator(mdates.YearLocator())\n",
    "plt.grid(True)\n",
    "plt.xticks(rotation=90)\n",
    "plt.show()"
   ]
  },
  {
   "cell_type": "code",
   "execution_count": 31,
   "metadata": {},
   "outputs": [
    {
     "data": {
      "image/png": "[encoded data removed]",
      "text/plain": [
       "<Figure size 720x720 with 4 Axes>"
      ]
     },
     "metadata": {
      "needs_background": "light"
     },
     "output_type": "display_data"
    }
   ],
   "source": [
    "#Subplots\n",
    "f, ax = plt.subplots(2, 2, figsize=(10,10), sharex=True)\n",
    "f.gca().xaxis.set_major_formatter(mdates.DateFormatter('%Y'))\n",
    "f.gca().xaxis.set_major_locator(mdates.YearLocator())\n",
    "\n",
    "ax[0,0].plot(nvda.index, nvda['Adj Close'], color='r')\n",
    "ax[0,0].grid(True)\n",
    "ax[0,0].tick_params(labelrotation=90)\n",
    "ax[0,0].set_title('NVIDIA');\n",
    "\n",
    "ax[0,1].plot(intc.index, intc['Adj Close'], color='g')\n",
    "ax[0,1].grid(True)\n",
    "ax[0,1].tick_params(labelrotation=90)\n",
    "ax[0,1].set_title('INTEL');\n",
    "\n",
    "ax[1,0].plot(qcom.index, qcom['Adj Close'], color='b')\n",
    "ax[1,0].grid(True)\n",
    "ax[1,0].tick_params(labelrotation=90)\n",
    "ax[1,0].set_title('QUALCOMM');\n",
    "\n",
    "ax[1,1].plot(aamd.index, aamd['Adj Close'], color='y')\n",
    "ax[1,1].grid(True)\n",
    "ax[1,1].tick_params(labelrotation=90)\n",
    "ax[1,1].set_title('AMD');"
   ]
  },
  {
   "cell_type": "code",
   "execution_count": null,
   "metadata": {},
   "outputs": [],
   "source": []
  }
 ],
 "metadata": {
  "kernelspec": {
   "display_name": "Python 3.8.10 64-bit",
   "language": "python",
   "name": "python3"
  },
  "language_info": {
   "codemirror_mode": {
    "name": "ipython",
    "version": 3
   },
   "file_extension": ".py",
   "mimetype": "text/x-python",
   "name": "python",
   "nbconvert_exporter": "python",
   "pygments_lexer": "ipython3",
   "version": "3.8.10"
  },
  "orig_nbformat": 4,
  "vscode": {
   "interpreter": {
    "hash": "916dbcbb3f70747c44a77c7bcd40155683ae19c65e1c03b4aa3499c5328201f1"
   }
  }
 },
 "nbformat": 4,
 "nbformat_minor": 2
}
