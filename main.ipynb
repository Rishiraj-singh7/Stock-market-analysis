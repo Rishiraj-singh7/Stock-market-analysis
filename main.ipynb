{
 "cells": [
  {
   "cell_type": "markdown",
   "metadata": {},
   "source": [
    "Step 1: Importing Datasets"
   ]
  },
  {
   "cell_type": "code",
   "execution_count": 1,
   "metadata": {},
   "outputs": [],
   "source": [
    "import pandas as pd"
   ]
  },
  {
   "cell_type": "code",
   "execution_count": 14,
   "metadata": {},
   "outputs": [],
   "source": [
    "intc = pd.read_csv('INTC.csv')"
   ]
  },
  {
   "cell_type": "code",
   "execution_count": 15,
   "metadata": {},
   "outputs": [
    {
     "data": {
      "text/html": [
       "<div>\n",
       "<style scoped>\n",
       "    .dataframe tbody tr th:only-of-type {\n",
       "        vertical-align: middle;\n",
       "    }\n",
       "\n",
       "    .dataframe tbody tr th {\n",
       "        vertical-align: top;\n",
       "    }\n",
       "\n",
       "    .dataframe thead th {\n",
       "        text-align: right;\n",
       "    }\n",
       "</style>\n",
       "<table border=\"1\" class=\"dataframe\">\n",
       "  <thead>\n",
       "    <tr style=\"text-align: right;\">\n",
       "      <th></th>\n",
       "      <th>Date</th>\n",
       "      <th>Open</th>\n",
       "      <th>High</th>\n",
       "      <th>Low</th>\n",
       "      <th>Close</th>\n",
       "      <th>Adj Close</th>\n",
       "      <th>Volume</th>\n",
       "    </tr>\n",
       "  </thead>\n",
       "  <tbody>\n",
       "    <tr>\n",
       "      <th>0</th>\n",
       "      <td>2021-06-28</td>\n",
       "      <td>56.360001</td>\n",
       "      <td>57.730000</td>\n",
       "      <td>56.340000</td>\n",
       "      <td>57.480000</td>\n",
       "      <td>55.844288</td>\n",
       "      <td>22480900</td>\n",
       "    </tr>\n",
       "    <tr>\n",
       "      <th>1</th>\n",
       "      <td>2021-06-29</td>\n",
       "      <td>57.549999</td>\n",
       "      <td>57.830002</td>\n",
       "      <td>55.880001</td>\n",
       "      <td>56.750000</td>\n",
       "      <td>55.135056</td>\n",
       "      <td>26360000</td>\n",
       "    </tr>\n",
       "    <tr>\n",
       "      <th>2</th>\n",
       "      <td>2021-06-30</td>\n",
       "      <td>56.340000</td>\n",
       "      <td>56.380001</td>\n",
       "      <td>55.389999</td>\n",
       "      <td>56.139999</td>\n",
       "      <td>54.542419</td>\n",
       "      <td>29891600</td>\n",
       "    </tr>\n",
       "  </tbody>\n",
       "</table>\n",
       "</div>"
      ],
      "text/plain": [
       "         Date       Open       High        Low      Close  Adj Close    Volume\n",
       "0  2021-06-28  56.360001  57.730000  56.340000  57.480000  55.844288  22480900\n",
       "1  2021-06-29  57.549999  57.830002  55.880001  56.750000  55.135056  26360000\n",
       "2  2021-06-30  56.340000  56.380001  55.389999  56.139999  54.542419  29891600"
      ]
     },
     "execution_count": 15,
     "metadata": {},
     "output_type": "execute_result"
    }
   ],
   "source": [
    "intc.head(3)"
   ]
  },
  {
   "cell_type": "code",
   "execution_count": 17,
   "metadata": {},
   "outputs": [],
   "source": [
    "intc = pd.read_csv('INTC.csv', header=0, index_col='Date', parse_dates=True)"
   ]
  },
  {
   "cell_type": "code",
   "execution_count": 18,
   "metadata": {},
   "outputs": [
    {
     "data": {
      "text/html": [
       "<div>\n",
       "<style scoped>\n",
       "    .dataframe tbody tr th:only-of-type {\n",
       "        vertical-align: middle;\n",
       "    }\n",
       "\n",
       "    .dataframe tbody tr th {\n",
       "        vertical-align: top;\n",
       "    }\n",
       "\n",
       "    .dataframe thead th {\n",
       "        text-align: right;\n",
       "    }\n",
       "</style>\n",
       "<table border=\"1\" class=\"dataframe\">\n",
       "  <thead>\n",
       "    <tr style=\"text-align: right;\">\n",
       "      <th></th>\n",
       "      <th>Open</th>\n",
       "      <th>High</th>\n",
       "      <th>Low</th>\n",
       "      <th>Close</th>\n",
       "      <th>Adj Close</th>\n",
       "      <th>Volume</th>\n",
       "    </tr>\n",
       "    <tr>\n",
       "      <th>Date</th>\n",
       "      <th></th>\n",
       "      <th></th>\n",
       "      <th></th>\n",
       "      <th></th>\n",
       "      <th></th>\n",
       "      <th></th>\n",
       "    </tr>\n",
       "  </thead>\n",
       "  <tbody>\n",
       "    <tr>\n",
       "      <th>2021-06-28</th>\n",
       "      <td>56.360001</td>\n",
       "      <td>57.730000</td>\n",
       "      <td>56.340000</td>\n",
       "      <td>57.480000</td>\n",
       "      <td>55.844288</td>\n",
       "      <td>22480900</td>\n",
       "    </tr>\n",
       "    <tr>\n",
       "      <th>2021-06-29</th>\n",
       "      <td>57.549999</td>\n",
       "      <td>57.830002</td>\n",
       "      <td>55.880001</td>\n",
       "      <td>56.750000</td>\n",
       "      <td>55.135056</td>\n",
       "      <td>26360000</td>\n",
       "    </tr>\n",
       "    <tr>\n",
       "      <th>2021-06-30</th>\n",
       "      <td>56.340000</td>\n",
       "      <td>56.380001</td>\n",
       "      <td>55.389999</td>\n",
       "      <td>56.139999</td>\n",
       "      <td>54.542419</td>\n",
       "      <td>29891600</td>\n",
       "    </tr>\n",
       "  </tbody>\n",
       "</table>\n",
       "</div>"
      ],
      "text/plain": [
       "                 Open       High        Low      Close  Adj Close    Volume\n",
       "Date                                                                       \n",
       "2021-06-28  56.360001  57.730000  56.340000  57.480000  55.844288  22480900\n",
       "2021-06-29  57.549999  57.830002  55.880001  56.750000  55.135056  26360000\n",
       "2021-06-30  56.340000  56.380001  55.389999  56.139999  54.542419  29891600"
      ]
     },
     "execution_count": 18,
     "metadata": {},
     "output_type": "execute_result"
    }
   ],
   "source": [
    "intc.head(3)"
   ]
  },
  {
   "cell_type": "code",
   "execution_count": 6,
   "metadata": {},
   "outputs": [
    {
     "data": {
      "text/html": [
       "<div>\n",
       "<style scoped>\n",
       "    .dataframe tbody tr th:only-of-type {\n",
       "        vertical-align: middle;\n",
       "    }\n",
       "\n",
       "    .dataframe tbody tr th {\n",
       "        vertical-align: top;\n",
       "    }\n",
       "\n",
       "    .dataframe thead th {\n",
       "        text-align: right;\n",
       "    }\n",
       "</style>\n",
       "<table border=\"1\" class=\"dataframe\">\n",
       "  <thead>\n",
       "    <tr style=\"text-align: right;\">\n",
       "      <th></th>\n",
       "      <th>Open</th>\n",
       "      <th>High</th>\n",
       "      <th>Low</th>\n",
       "      <th>Close</th>\n",
       "      <th>Adj Close</th>\n",
       "      <th>Volume</th>\n",
       "    </tr>\n",
       "    <tr>\n",
       "      <th>Date</th>\n",
       "      <th></th>\n",
       "      <th></th>\n",
       "      <th></th>\n",
       "      <th></th>\n",
       "      <th></th>\n",
       "      <th></th>\n",
       "    </tr>\n",
       "  </thead>\n",
       "  <tbody>\n",
       "    <tr>\n",
       "      <th>2022-06-23</th>\n",
       "      <td>37.610001</td>\n",
       "      <td>37.619999</td>\n",
       "      <td>36.910000</td>\n",
       "      <td>37.410000</td>\n",
       "      <td>37.410000</td>\n",
       "      <td>30163000</td>\n",
       "    </tr>\n",
       "    <tr>\n",
       "      <th>2022-06-24</th>\n",
       "      <td>37.849998</td>\n",
       "      <td>38.639999</td>\n",
       "      <td>37.740002</td>\n",
       "      <td>38.610001</td>\n",
       "      <td>38.610001</td>\n",
       "      <td>38152100</td>\n",
       "    </tr>\n",
       "  </tbody>\n",
       "</table>\n",
       "</div>"
      ],
      "text/plain": [
       "                 Open       High        Low      Close  Adj Close    Volume\n",
       "Date                                                                       \n",
       "2022-06-23  37.610001  37.619999  36.910000  37.410000  37.410000  30163000\n",
       "2022-06-24  37.849998  38.639999  37.740002  38.610001  38.610001  38152100"
      ]
     },
     "execution_count": 6,
     "metadata": {},
     "output_type": "execute_result"
    }
   ],
   "source": [
    "amd.tail(2)"
   ]
  },
  {
   "cell_type": "markdown",
   "metadata": {},
   "source": [
    "\n",
    "Using Pandas DataReader"
   ]
  },
  {
   "cell_type": "code",
   "execution_count": 7,
   "metadata": {},
   "outputs": [
    {
     "name": "stdout",
     "output_type": "stream",
     "text": [
      "Collecting pandas_datareader\n",
      "  Downloading pandas_datareader-0.10.0-py3-none-any.whl (109 kB)\n",
      "\u001b[K     |████████████████████████████████| 109 kB 854 kB/s eta 0:00:01\n",
      "\u001b[?25hRequirement already satisfied: pandas>=0.23 in /home/linux/.local/lib/python3.8/site-packages (from pandas_datareader) (1.4.2)\n",
      "Collecting lxml\n",
      "  Downloading lxml-4.9.0-cp38-cp38-manylinux_2_17_x86_64.manylinux2014_x86_64.manylinux_2_24_x86_64.whl (6.9 MB)\n",
      "\u001b[K     |████████████████████████████████| 6.9 MB 7.5 MB/s eta 0:00:01     |█████████████████████████████▍  | 6.4 MB 3.9 MB/s eta 0:00:01\n",
      "\u001b[?25hRequirement already satisfied: requests>=2.19.0 in /usr/lib/python3/dist-packages (from pandas_datareader) (2.22.0)\n",
      "Requirement already satisfied: pytz>=2020.1 in /home/linux/.local/lib/python3.8/site-packages (from pandas>=0.23->pandas_datareader) (2022.1)\n",
      "Requirement already satisfied: numpy>=1.18.5; platform_machine != \"aarch64\" and platform_machine != \"arm64\" and python_version < \"3.10\" in /home/linux/.local/lib/python3.8/site-packages (from pandas>=0.23->pandas_datareader) (1.22.4)\n",
      "Requirement already satisfied: python-dateutil>=2.8.1 in /home/linux/.local/lib/python3.8/site-packages (from pandas>=0.23->pandas_datareader) (2.8.2)\n",
      "Requirement already satisfied: six>=1.5 in /usr/lib/python3/dist-packages (from python-dateutil>=2.8.1->pandas>=0.23->pandas_datareader) (1.14.0)\n",
      "Installing collected packages: lxml, pandas-datareader\n",
      "Successfully installed lxml-4.9.0 pandas-datareader-0.10.0\n"
     ]
    }
   ],
   "source": [
    "!pip install pandas_datareader"
   ]
  },
  {
   "cell_type": "code",
   "execution_count": 8,
   "metadata": {},
   "outputs": [],
   "source": [
    "import pandas_datareader as pdr"
   ]
  },
  {
   "cell_type": "code",
   "execution_count": 9,
   "metadata": {},
   "outputs": [],
   "source": [
    "import datetime"
   ]
  },
  {
   "cell_type": "code",
   "execution_count": 10,
   "metadata": {},
   "outputs": [],
   "source": [
    "nvda = pdr.get_data_yahoo('NVDA', \n",
    "                          start=datetime.datetime(2004, 1, 1), \n",
    "                          end=datetime.datetime(2019, 9, 15))"
   ]
  },
  {
   "cell_type": "code",
   "execution_count": 11,
   "metadata": {},
   "outputs": [],
   "source": [
    "\n",
    "qcom = pdr.get_data_yahoo('QCOM',\n",
    "                         start=datetime.datetime(2004,1,1),\n",
    "                         end=datetime.datetime(2019,9,15))"
   ]
  },
  {
   "cell_type": "code",
   "execution_count": 13,
   "metadata": {},
   "outputs": [],
   "source": [
    "\n",
    "aamd = pdr.get_data_yahoo('AMD',\n",
    "                         start=datetime.datetime(2004,1,1),\n",
    "                         end=datetime.datetime(2019,9,15))"
   ]
  },
  {
   "cell_type": "code",
   "execution_count": 19,
   "metadata": {},
   "outputs": [],
   "source": [
    "ibm = pdr.get_data_yahoo('IBM',\n",
    "                        start=datetime.datetime(2004,1,1),\n",
    "                        end=datetime.datetime(2019,9,15))"
   ]
  },
  {
   "cell_type": "code",
   "execution_count": 20,
   "metadata": {},
   "outputs": [
    {
     "data": {
      "text/plain": [
       "(pandas.core.frame.DataFrame, pandas.core.frame.DataFrame)"
      ]
     },
     "execution_count": 20,
     "metadata": {},
     "output_type": "execute_result"
    }
   ],
   "source": [
    "type(nvda), type(amd)"
   ]
  },
  {
   "cell_type": "code",
   "execution_count": 21,
   "metadata": {},
   "outputs": [
    {
     "data": {
      "text/html": [
       "<div>\n",
       "<style scoped>\n",
       "    .dataframe tbody tr th:only-of-type {\n",
       "        vertical-align: middle;\n",
       "    }\n",
       "\n",
       "    .dataframe tbody tr th {\n",
       "        vertical-align: top;\n",
       "    }\n",
       "\n",
       "    .dataframe thead th {\n",
       "        text-align: right;\n",
       "    }\n",
       "</style>\n",
       "<table border=\"1\" class=\"dataframe\">\n",
       "  <thead>\n",
       "    <tr style=\"text-align: right;\">\n",
       "      <th></th>\n",
       "      <th>High</th>\n",
       "      <th>Low</th>\n",
       "      <th>Open</th>\n",
       "      <th>Close</th>\n",
       "      <th>Volume</th>\n",
       "      <th>Adj Close</th>\n",
       "    </tr>\n",
       "    <tr>\n",
       "      <th>Date</th>\n",
       "      <th></th>\n",
       "      <th></th>\n",
       "      <th></th>\n",
       "      <th></th>\n",
       "      <th></th>\n",
       "      <th></th>\n",
       "    </tr>\n",
       "  </thead>\n",
       "  <tbody>\n",
       "    <tr>\n",
       "      <th>2003-12-31</th>\n",
       "      <td>1.987500</td>\n",
       "      <td>1.901667</td>\n",
       "      <td>1.978333</td>\n",
       "      <td>1.933333</td>\n",
       "      <td>49726800.0</td>\n",
       "      <td>1.775302</td>\n",
       "    </tr>\n",
       "    <tr>\n",
       "      <th>2004-01-02</th>\n",
       "      <td>1.990833</td>\n",
       "      <td>1.923333</td>\n",
       "      <td>1.964167</td>\n",
       "      <td>1.923333</td>\n",
       "      <td>43641600.0</td>\n",
       "      <td>1.766120</td>\n",
       "    </tr>\n",
       "  </tbody>\n",
       "</table>\n",
       "</div>"
      ],
      "text/plain": [
       "                High       Low      Open     Close      Volume  Adj Close\n",
       "Date                                                                     \n",
       "2003-12-31  1.987500  1.901667  1.978333  1.933333  49726800.0   1.775302\n",
       "2004-01-02  1.990833  1.923333  1.964167  1.923333  43641600.0   1.766120"
      ]
     },
     "execution_count": 21,
     "metadata": {},
     "output_type": "execute_result"
    }
   ],
   "source": [
    "nvda.head(n=2)"
   ]
  },
  {
   "cell_type": "code",
   "execution_count": 22,
   "metadata": {},
   "outputs": [
    {
     "data": {
      "text/html": [
       "<div>\n",
       "<style scoped>\n",
       "    .dataframe tbody tr th:only-of-type {\n",
       "        vertical-align: middle;\n",
       "    }\n",
       "\n",
       "    .dataframe tbody tr th {\n",
       "        vertical-align: top;\n",
       "    }\n",
       "\n",
       "    .dataframe thead th {\n",
       "        text-align: right;\n",
       "    }\n",
       "</style>\n",
       "<table border=\"1\" class=\"dataframe\">\n",
       "  <thead>\n",
       "    <tr style=\"text-align: right;\">\n",
       "      <th></th>\n",
       "      <th>High</th>\n",
       "      <th>Low</th>\n",
       "      <th>Open</th>\n",
       "      <th>Close</th>\n",
       "      <th>Volume</th>\n",
       "      <th>Adj Close</th>\n",
       "    </tr>\n",
       "    <tr>\n",
       "      <th>Date</th>\n",
       "      <th></th>\n",
       "      <th></th>\n",
       "      <th></th>\n",
       "      <th></th>\n",
       "      <th></th>\n",
       "      <th></th>\n",
       "    </tr>\n",
       "  </thead>\n",
       "  <tbody>\n",
       "    <tr>\n",
       "      <th>2019-09-09</th>\n",
       "      <td>136.730408</td>\n",
       "      <td>134.282990</td>\n",
       "      <td>134.407272</td>\n",
       "      <td>136.328873</td>\n",
       "      <td>4421024.0</td>\n",
       "      <td>118.996468</td>\n",
       "    </tr>\n",
       "    <tr>\n",
       "      <th>2019-09-10</th>\n",
       "      <td>139.063095</td>\n",
       "      <td>136.673035</td>\n",
       "      <td>136.711288</td>\n",
       "      <td>138.671127</td>\n",
       "      <td>5208766.0</td>\n",
       "      <td>121.040916</td>\n",
       "    </tr>\n",
       "    <tr>\n",
       "      <th>2019-09-11</th>\n",
       "      <td>138.738052</td>\n",
       "      <td>136.434036</td>\n",
       "      <td>138.479919</td>\n",
       "      <td>137.284897</td>\n",
       "      <td>4047706.0</td>\n",
       "      <td>119.830917</td>\n",
       "    </tr>\n",
       "    <tr>\n",
       "      <th>2019-09-12</th>\n",
       "      <td>137.705551</td>\n",
       "      <td>135.640533</td>\n",
       "      <td>137.695984</td>\n",
       "      <td>137.304016</td>\n",
       "      <td>2620648.0</td>\n",
       "      <td>119.847618</td>\n",
       "    </tr>\n",
       "    <tr>\n",
       "      <th>2019-09-13</th>\n",
       "      <td>138.288712</td>\n",
       "      <td>136.959854</td>\n",
       "      <td>137.973236</td>\n",
       "      <td>137.351822</td>\n",
       "      <td>2308104.0</td>\n",
       "      <td>119.889343</td>\n",
       "    </tr>\n",
       "  </tbody>\n",
       "</table>\n",
       "</div>"
      ],
      "text/plain": [
       "                  High         Low        Open       Close     Volume  \\\n",
       "Date                                                                    \n",
       "2019-09-09  136.730408  134.282990  134.407272  136.328873  4421024.0   \n",
       "2019-09-10  139.063095  136.673035  136.711288  138.671127  5208766.0   \n",
       "2019-09-11  138.738052  136.434036  138.479919  137.284897  4047706.0   \n",
       "2019-09-12  137.705551  135.640533  137.695984  137.304016  2620648.0   \n",
       "2019-09-13  138.288712  136.959854  137.973236  137.351822  2308104.0   \n",
       "\n",
       "             Adj Close  \n",
       "Date                    \n",
       "2019-09-09  118.996468  \n",
       "2019-09-10  121.040916  \n",
       "2019-09-11  119.830917  \n",
       "2019-09-12  119.847618  \n",
       "2019-09-13  119.889343  "
      ]
     },
     "execution_count": 22,
     "metadata": {},
     "output_type": "execute_result"
    }
   ],
   "source": [
    "ibm.tail()"
   ]
  },
  {
   "cell_type": "code",
   "execution_count": null,
   "metadata": {},
   "outputs": [],
   "source": []
  }
 ],
 "metadata": {
  "kernelspec": {
   "display_name": "Python 3.8.10 64-bit",
   "language": "python",
   "name": "python3"
  },
  "language_info": {
   "codemirror_mode": {
    "name": "ipython",
    "version": 3
   },
   "file_extension": ".py",
   "mimetype": "text/x-python",
   "name": "python",
   "nbconvert_exporter": "python",
   "pygments_lexer": "ipython3",
   "version": "3.8.10"
  },
  "orig_nbformat": 4,
  "vscode": {
   "interpreter": {
    "hash": "916dbcbb3f70747c44a77c7bcd40155683ae19c65e1c03b4aa3499c5328201f1"
   }
  }
 },
 "nbformat": 4,
 "nbformat_minor": 2
}
